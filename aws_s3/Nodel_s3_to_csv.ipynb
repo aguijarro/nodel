{
 "cells": [
  {
   "cell_type": "code",
   "execution_count": 93,
   "metadata": {},
   "outputs": [],
   "source": [
    "import pandas as pd\n",
    "import ast\n",
    "import json\n",
    "# AWS Python SDK\n",
    "import boto3\n",
    "# When running on SageMaker, need execution role\n",
    "from sagemaker import get_execution_role\n",
    "role = get_execution_role()"
   ]
  },
  {
   "cell_type": "code",
   "execution_count": 94,
   "metadata": {},
   "outputs": [],
   "source": [
    "s3 = boto3.resource('s3')"
   ]
  },
  {
   "cell_type": "code",
   "execution_count": 95,
   "metadata": {},
   "outputs": [],
   "source": [
    "# Declare bucket name, remote file, and destination\n",
    "my_bucket = 'nodel-ag'\n",
    "prefix_list = ['ex_1','ex_2','ex_3','ex_4']"
   ]
  },
  {
   "cell_type": "code",
   "execution_count": 96,
   "metadata": {},
   "outputs": [],
   "source": [
    "def build_dataframe(bucket, prefix):\n",
    "    result_list = []\n",
    "    for obj in bucket.objects.filter(Prefix=f\"{prefix}/\"):\n",
    "        data = obj.get()['Body'].read().decode()\n",
    "        if data:\n",
    "            if data.find(\"\\n\") != -1:\n",
    "                row = data.split(\"\\n\")\n",
    "                result_list.append(json.loads(row[0]))\n",
    "                result_list.append(json.loads(row[0]))\n",
    "                # result_list.append(ast.literal_eval(row[0]))\n",
    "                # result_list.append(ast.literal_eval(row[1]))\n",
    "            else:\n",
    "                # result_list.append(ast.literal_eval(data))\n",
    "                result_list.append(json.loads(data))\n",
    "    return pd.DataFrame(result_list)  "
   ]
  },
  {
   "cell_type": "code",
   "execution_count": 97,
   "metadata": {},
   "outputs": [],
   "source": [
    "bucket = s3.Bucket(my_bucket)\n",
    "for prefix in prefix_list:\n",
    "    df = build_dataframe(bucket, prefix)\n",
    "    df.to_csv(prefix+'.csv', sep=',', index=False)"
   ]
  },
  {
   "cell_type": "code",
   "execution_count": null,
   "metadata": {},
   "outputs": [],
   "source": []
  },
  {
   "cell_type": "code",
   "execution_count": null,
   "metadata": {},
   "outputs": [],
   "source": []
  }
 ],
 "metadata": {
  "instance_type": "ml.t3.medium",
  "kernelspec": {
   "display_name": "Python 3 (Data Science)",
   "language": "python",
   "name": "python3__SAGEMAKER_INTERNAL__arn:aws:sagemaker:us-east-1:081325390199:image/datascience-1.0"
  },
  "language_info": {
   "codemirror_mode": {
    "name": "ipython",
    "version": 3
   },
   "file_extension": ".py",
   "mimetype": "text/x-python",
   "name": "python",
   "nbconvert_exporter": "python",
   "pygments_lexer": "ipython3",
   "version": "3.7.10"
  }
 },
 "nbformat": 4,
 "nbformat_minor": 4
}
